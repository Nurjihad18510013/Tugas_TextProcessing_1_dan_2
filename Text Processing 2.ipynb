{
 "cells": [
  {
   "cell_type": "code",
   "execution_count": 1,
   "id": "a67e74ff",
   "metadata": {},
   "outputs": [
    {
     "data": {
      "text/plain": [
       "['The Industrial Revolution 4.0 is changing most of the business activities',\n",
       " 'The Industrial Revolution 4.0 has five technologies that are the main points',\n",
       " 'Industry 4.0 opens new challanges for companies']"
      ]
     },
     "execution_count": 1,
     "metadata": {},
     "output_type": "execute_result"
    }
   ],
   "source": [
    "corpus = [\n",
    "    'The Industrial Revolution 4.0 is changing most of the business activities',\n",
    "    'The Industrial Revolution 4.0 has five technologies that are the main points',\n",
    "    'Industry 4.0 opens new challanges for companies'\n",
    "]\n",
    "corpus"
   ]
  },
  {
   "cell_type": "code",
   "execution_count": 2,
   "id": "70d15361",
   "metadata": {},
   "outputs": [
    {
     "data": {
      "text/plain": [
       "matrix([[1, 0, 1, 0, 1, 0, 0, 0, 0, 1, 0, 1, 0, 1, 0, 1, 0, 0, 1, 0, 0,\n",
       "         2],\n",
       "        [0, 1, 0, 0, 0, 0, 1, 0, 1, 1, 0, 0, 1, 0, 0, 0, 0, 1, 1, 1, 1,\n",
       "         2],\n",
       "        [0, 0, 0, 1, 0, 1, 0, 1, 0, 0, 1, 0, 0, 0, 1, 0, 1, 0, 0, 0, 0,\n",
       "         0]], dtype=int64)"
      ]
     },
     "execution_count": 2,
     "metadata": {},
     "output_type": "execute_result"
    }
   ],
   "source": [
    "from sklearn.feature_extraction.text import CountVectorizer\n",
    "vectorizer = CountVectorizer()\n",
    "vectorizer_X = vectorizer.fit_transform(corpus).todense()\n",
    "vectorizer_X"
   ]
  },
  {
   "cell_type": "code",
   "execution_count": 3,
   "id": "ceb921c1",
   "metadata": {},
   "outputs": [
    {
     "data": {
      "text/plain": [
       "['activities',\n",
       " 'are',\n",
       " 'business',\n",
       " 'challanges',\n",
       " 'changing',\n",
       " 'companies',\n",
       " 'five',\n",
       " 'for',\n",
       " 'has',\n",
       " 'industrial',\n",
       " 'industry',\n",
       " 'is',\n",
       " 'main',\n",
       " 'most',\n",
       " 'new',\n",
       " 'of',\n",
       " 'opens',\n",
       " 'points',\n",
       " 'revolution',\n",
       " 'technologies',\n",
       " 'that',\n",
       " 'the']"
      ]
     },
     "execution_count": 3,
     "metadata": {},
     "output_type": "execute_result"
    }
   ],
   "source": [
    "vectorizer.get_feature_names()"
   ]
  },
  {
   "cell_type": "code",
   "execution_count": 5,
   "id": "5808d842",
   "metadata": {},
   "outputs": [
    {
     "name": "stdout",
     "output_type": "stream",
     "text": [
      "Jarak Dokumen 1 dan 2: [[3.60555128]]\n",
      "Jarak Dokumen 1 dan 3: [[4.24264069]]\n",
      "Jarak Dokumen 2 dan 3: [[4.35889894]]\n"
     ]
    }
   ],
   "source": [
    "from sklearn.metrics.pairwise import euclidean_distances\n",
    "for i in range(len(vectorizer_X)) :\n",
    "    for j in range(i, len (vectorizer_X)):\n",
    "        if i ==j:\n",
    "            continue\n",
    "        jarak = euclidean_distances(vectorizer_X[i], vectorizer_X[j])\n",
    "        print(f'Jarak Dokumen {i+1} dan {j+1}: {jarak}')"
   ]
  },
  {
   "cell_type": "code",
   "execution_count": 6,
   "id": "abc2e419",
   "metadata": {},
   "outputs": [
    {
     "data": {
      "text/plain": [
       "matrix([[1, 1, 0, 1, 0, 1, 0, 0, 0, 0, 0, 1, 0],\n",
       "        [0, 0, 0, 0, 0, 1, 0, 1, 0, 0, 1, 1, 1],\n",
       "        [0, 0, 1, 0, 1, 0, 1, 0, 1, 1, 0, 0, 0]], dtype=int64)"
      ]
     },
     "execution_count": 6,
     "metadata": {},
     "output_type": "execute_result"
    }
   ],
   "source": [
    "from sklearn.feature_extraction.text import CountVectorizer\n",
    "vectorizer = CountVectorizer(stop_words='english')\n",
    "vectorizer_X = vectorizer.fit_transform(corpus).todense()\n",
    "vectorizer_X"
   ]
  },
  {
   "cell_type": "code",
   "execution_count": 8,
   "id": "3bddec5b",
   "metadata": {},
   "outputs": [
    {
     "data": {
      "text/plain": [
       "['activities',\n",
       " 'business',\n",
       " 'challanges',\n",
       " 'changing',\n",
       " 'companies',\n",
       " 'industrial',\n",
       " 'industry',\n",
       " 'main',\n",
       " 'new',\n",
       " 'opens',\n",
       " 'points',\n",
       " 'revolution',\n",
       " 'technologies']"
      ]
     },
     "execution_count": 8,
     "metadata": {},
     "output_type": "execute_result"
    }
   ],
   "source": [
    "vectorizer.get_feature_names()"
   ]
  },
  {
   "cell_type": "code",
   "execution_count": null,
   "id": "90bc9e37",
   "metadata": {},
   "outputs": [],
   "source": []
  }
 ],
 "metadata": {
  "kernelspec": {
   "display_name": "Python 3 (ipykernel)",
   "language": "python",
   "name": "python3"
  },
  "language_info": {
   "codemirror_mode": {
    "name": "ipython",
    "version": 3
   },
   "file_extension": ".py",
   "mimetype": "text/x-python",
   "name": "python",
   "nbconvert_exporter": "python",
   "pygments_lexer": "ipython3",
   "version": "3.9.7"
  }
 },
 "nbformat": 4,
 "nbformat_minor": 5
}
